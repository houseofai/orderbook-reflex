{
 "cells": [
  {
   "cell_type": "code",
   "id": "initial_id",
   "metadata": {
    "collapsed": true
   },
   "source": [
    "import pandas as pd\n",
    "from tqdm import tqdm\n",
    "import glob\n",
    "import pickle\n",
    "from pathlib import Path\n",
    "from src.simulate_quotes import QuoteModel,FeatureBuilder\n",
    "\n",
    "base_path = \"ticks\"\n",
    "sessions = glob.glob(f\"{base_path}/*-BID_ASK.parquet\")\n",
    "len(sessions)"
   ],
   "outputs": [],
   "execution_count": null
  },
  {
   "metadata": {},
   "cell_type": "code",
   "source": [
    "def load_sessions(paths):\n",
    "    \"\"\"Charge plusieurs Parquet, ajoute la colonne `symbol`, concatène et trie.\"\"\"\n",
    "    dfs = []\n",
    "    for p in paths:\n",
    "        df = pd.read_parquet(p)\n",
    "        symbol = Path(p).stem.split(\"-\")[0]     # WHLR-2025-06-12-... → WHLR\n",
    "        df[\"symbol\"] = symbol\n",
    "        dfs.append(df)\n",
    "    return pd.concat(dfs).sort_values(\"time\", kind=\"mergesort\").reset_index(drop=True)\n",
    "\n",
    "def train_model(df):\n",
    "    qm = QuoteModel()\n",
    "    df_symbol = df.groupby(\"symbol\")\n",
    "    pbar = tqdm(df_symbol, total=len(df_symbol))\n",
    "    for symbol, sub in pbar:    # ① on traite chaque titre isolément\n",
    "        pbar.set_description(f\"Training QuoteModel for {symbol}\")\n",
    "        fb = FeatureBuilder()                   #    => prev_mid propre au symbole\n",
    "        buffer = []\n",
    "        current_sec = sub.time.iloc[0].floor(\"s\")\n",
    "        for row in sub.itertuples(index=False):\n",
    "            sec = row.time.floor(\"s\")\n",
    "            if sec != current_sec:\n",
    "                qm.update_second(buffer)        # ② on transmet SEULEMENT les features\n",
    "                buffer, current_sec = [], sec\n",
    "            buffer.append(fb.transform(row))\n",
    "        if buffer:\n",
    "            qm.update_second(buffer)\n",
    "    return qm"
   ],
   "id": "806326bb85b175b5",
   "outputs": [],
   "execution_count": null
  },
  {
   "metadata": {},
   "cell_type": "code",
   "source": [
    "# 1) ingestion\n",
    "df = load_sessions(sessions)\n",
    "df"
   ],
   "id": "a9fdc3cd65738770",
   "outputs": [],
   "execution_count": null
  },
  {
   "metadata": {},
   "cell_type": "code",
   "source": [
    "# 2) entraînement\n",
    "print(\"Training model...\")\n",
    "model = train_model(df)"
   ],
   "id": "944d6c715ce9cbb0",
   "outputs": [],
   "execution_count": null
  },
  {
   "metadata": {},
   "cell_type": "code",
   "source": [
    "# save model\n",
    "ts = pd.Timestamp.now().strftime(\"%Y%m%d-%H%M%S\")\n",
    "with open(f\"../models/model-{ts}.pkl\", \"wb\") as f:\n",
    "    pickle.dump(model, f)"
   ],
   "id": "f4976de9bd9bb271",
   "outputs": [],
   "execution_count": null
  },
  {
   "metadata": {},
   "cell_type": "code",
   "source": "",
   "id": "f9fc762383a6e761",
   "outputs": [],
   "execution_count": null
  }
 ],
 "metadata": {
  "kernelspec": {
   "display_name": "Python 3",
   "language": "python",
   "name": "python3"
  },
  "language_info": {
   "codemirror_mode": {
    "name": "ipython",
    "version": 2
   },
   "file_extension": ".py",
   "mimetype": "text/x-python",
   "name": "python",
   "nbconvert_exporter": "python",
   "pygments_lexer": "ipython2",
   "version": "2.7.6"
  }
 },
 "nbformat": 4,
 "nbformat_minor": 5
}
